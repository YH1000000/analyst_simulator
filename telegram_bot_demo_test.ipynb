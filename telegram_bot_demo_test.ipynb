{
 "cells": [
  {
   "cell_type": "code",
   "execution_count": 39,
   "id": "ec83ae30-19c7-413a-8910-013f60e90ffd",
   "metadata": {},
   "outputs": [],
   "source": [
    "import telegram"
   ]
  },
  {
   "cell_type": "code",
   "execution_count": 40,
   "id": "78100a4e-ad75-4da0-8bbb-cbf156e1226d",
   "metadata": {},
   "outputs": [],
   "source": [
    "my_token='6484172849:AAF4NBPe-bJKnzxvSSVSXVTXCqSsb-IKqNI'"
   ]
  },
  {
   "cell_type": "code",
   "execution_count": 41,
   "id": "b41fdb20-dce6-47d6-bc60-0e93c6cf6a5e",
   "metadata": {},
   "outputs": [],
   "source": [
    "#bot = telegram.Bot(token=my_token)"
   ]
  },
  {
   "cell_type": "code",
   "execution_count": 42,
   "id": "37024703-57d4-43f1-90ff-abd6d2f3aad8",
   "metadata": {},
   "outputs": [],
   "source": [
    "#updates1 = bot.getUpdates()"
   ]
  },
  {
   "cell_type": "code",
   "execution_count": 45,
   "id": "c5d65de5-42ae-4329-812c-bb69d9186aa1",
   "metadata": {},
   "outputs": [],
   "source": [
    "chat_id = 362597695"
   ]
  },
  {
   "cell_type": "code",
   "execution_count": 43,
   "id": "3f891262-e8f0-414c-a3bb-3c819abb15e1",
   "metadata": {
    "tags": []
   },
   "outputs": [
    {
     "name": "stdout",
     "output_type": "stream",
     "text": [
      "{'update_id': 145001816, 'message': {'supergroup_chat_created': False, 'caption_entities': [], 'delete_chat_photo': False, 'new_chat_photo': [], 'new_chat_members': [], 'channel_chat_created': False, 'message_id': 3, 'entities': [], 'text': 'ююю', 'chat': {'type': 'private', 'first_name': 'York', 'id': 362597695, 'username': 'witskaduwee'}, 'photo': [], 'date': 1697283690, 'group_chat_created': False, 'from': {'first_name': 'York', 'language_code': 'en', 'id': 362597695, 'is_bot': False, 'username': 'witskaduwee'}}}\n"
     ]
    }
   ],
   "source": [
    "#if updates1:\n",
    "#    print(updates1[-1])\n",
    "#else:\n",
    "#    print(\"Список updates1 пустой\")"
   ]
  },
  {
   "cell_type": "code",
   "execution_count": 46,
   "id": "6c73382f-79fd-4059-9143-6bde1e0c3808",
   "metadata": {},
   "outputs": [
    {
     "data": {
      "text/plain": [
       "<telegram.message.Message at 0x7fec08e09c40>"
      ]
     },
     "execution_count": 46,
     "metadata": {},
     "output_type": "execute_result"
    }
   ],
   "source": [
    "msg = 'Hello'\n",
    "bot.sendMessage(chat_id, text=msg)"
   ]
  },
  {
   "cell_type": "code",
   "execution_count": 48,
   "id": "18deb53e-13ff-424b-aa1b-1fd09bdbf58b",
   "metadata": {},
   "outputs": [
    {
     "data": {
      "text/plain": [
       "<telegram.message.Message at 0x7febbd62fc40>"
      ]
     },
     "execution_count": 48,
     "metadata": {},
     "output_type": "execute_result"
    }
   ],
   "source": [
    "import numpy as np\n",
    "import matplotlib.pyplot as plt\n",
    "import seaborn as sns\n",
    "import io\n",
    "\n",
    "x = np.arange(1, 10, 1)\n",
    "y = np.random.choice(5, len(x))\n",
    "\n",
    "sns.lineplot(x = x, y = y)\n",
    "plt.title('test plot')\n",
    "\n",
    "plot_object = io.BytesIO()\n",
    "plt.savefig(plot_object)\n",
    "plot_object.seek(0)\n",
    "plot_object.name = 'test_plot.png'\n",
    "plt.close()\n",
    "\n",
    "bot.sendPhoto(chat_id=chat_id, photo=plot_object)"
   ]
  },
  {
   "cell_type": "code",
   "execution_count": 59,
   "id": "121217e5-3dc8-4e53-a23a-319b175b4062",
   "metadata": {},
   "outputs": [],
   "source": [
    "import pandahouse\n",
    "\n",
    "\n",
    "class Getch:\n",
    "    def __init__(self, query, db='simulator'):\n",
    "        self.connection = {\n",
    "            'host': 'https://clickhouse.lab.karpov.courses',\n",
    "            'password': 'dpo_python_2020',\n",
    "            'user': 'student',\n",
    "            'database': db,\n",
    "        }\n",
    "        self.query = query\n",
    "        self.getchdf\n",
    "\n",
    "    @property\n",
    "    def getchdf(self):\n",
    "        try:\n",
    "            self.df = pandahouse.read_clickhouse(self.query, connection=self.connection)\n",
    "\n",
    "        except Exception as err:\n",
    "            print(\"\\033[31m {}\".format(err))\n",
    "            exit(0)"
   ]
  },
  {
   "cell_type": "code",
   "execution_count": 60,
   "id": "5c4525c2-f75e-4fff-a638-f330ccdf5fad",
   "metadata": {},
   "outputs": [
    {
     "name": "stdout",
     "output_type": "stream",
     "text": [
      "Empty DataFrame\n",
      "Columns: [user_id, post_id, action, time, gender, age, country, city, os, source, exp_group]\n",
      "Index: []\n"
     ]
    },
    {
     "data": {
      "text/plain": [
       "<telegram.message.Message at 0x7febbd284840>"
      ]
     },
     "execution_count": 60,
     "metadata": {},
     "output_type": "execute_result"
    }
   ],
   "source": [
    "data = Getch('''SELECT * FROM simulator.feed_actions WHERE toDate(time) = today() LIMIT 10''').df\n",
    "print(data)\n",
    "file_object = io.StringIO()\n",
    "data.to_csv(file_object)\n",
    "file_object.seek(0)\n",
    "file_object.name = 'test_doc.csv'\n",
    "\n",
    "bot.sendDocument(chat_id = chat_id, document = file_object)"
   ]
  },
  {
   "cell_type": "code",
   "execution_count": 61,
   "id": "2d2690b3-76d1-44a9-89f5-df1b8cf39077",
   "metadata": {},
   "outputs": [
    {
     "name": "stdout",
     "output_type": "stream",
     "text": [
      "Empty DataFrame\n",
      "Columns: [user_id, post_id, action, time, gender, age, country, city, os, source, exp_group]\n",
      "Index: []\n"
     ]
    }
   ],
   "source": [
    "import telegram\n",
    "\n",
    "def test_report(chat=None):\n",
    "    chat_id = chat or 362597695\n",
    "\n",
    "    my_token='6484172849:AAF4NBPe-bJKnzxvSSVSXVTXCqSsb-IKqNI'\n",
    "    bot = telegram.Bot(token=my_token)\n",
    "    \n",
    "    msg = 'Hello'\n",
    "    bot.sendMessage(chat_id, text=msg)\n",
    "    \n",
    "    import numpy as np\n",
    "    import matplotlib.pyplot as plt\n",
    "    import seaborn as sns\n",
    "    import io\n",
    "\n",
    "    x = np.arange(1, 10, 1)\n",
    "    y = np.random.choice(5, len(x))\n",
    "    sns.lineplot(x = x, y = y)\n",
    "    plt.title('test plot')\n",
    "\n",
    "    plot_object = io.BytesIO()\n",
    "    plt.savefig(plot_object)\n",
    "    plot_object.seek(0)\n",
    "    plot_object.name = 'test_plot.png'\n",
    "    plt.close()\n",
    "\n",
    "    bot.sendPhoto(chat_id=chat_id, photo=plot_object)\n",
    "\n",
    "    data = Getch('''SELECT * FROM simulator.feed_actions WHERE toDate(time) = today() LIMIT 10''').df\n",
    "    print(data)\n",
    "    file_object = io.StringIO()\n",
    "    data.to_csv(file_object)\n",
    "    file_object.seek(0)\n",
    "    file_object.name = 'test_doc.csv'\n",
    "\n",
    "    bot.sendDocument(chat_id = chat_id, document = file_object)\n",
    "test_report()"
   ]
  },
  {
   "cell_type": "code",
   "execution_count": null,
   "id": "35575121-4146-40f3-bb29-73acfa3b8ee4",
   "metadata": {},
   "outputs": [],
   "source": []
  }
 ],
 "metadata": {
  "kernelspec": {
   "display_name": "Python 3 (ipykernel)",
   "language": "python",
   "name": "python3"
  },
  "language_info": {
   "codemirror_mode": {
    "name": "ipython",
    "version": 3
   },
   "file_extension": ".py",
   "mimetype": "text/x-python",
   "name": "python",
   "nbconvert_exporter": "python",
   "pygments_lexer": "ipython3",
   "version": "3.8.10"
  }
 },
 "nbformat": 4,
 "nbformat_minor": 5
}
