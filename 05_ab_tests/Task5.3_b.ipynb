{
 "cells": [
  {
   "cell_type": "markdown",
   "id": "7bd6b1c3-7105-4015-af36-5992b9c9da46",
   "metadata": {},
   "source": [
    "# Задание 5.3"
   ]
  },
  {
   "cell_type": "code",
   "execution_count": 23,
   "id": "519a1e3d-0cb1-46a9-82ae-cadee189ee5f",
   "metadata": {},
   "outputs": [],
   "source": [
    "import numpy as np\n",
    "import matplotlib.pyplot as plt\n",
    "import seaborn as sns\n",
    "import pandas as pd\n",
    "import pandahouse\n",
    "from scipy import stats"
   ]
  },
  {
   "cell_type": "code",
   "execution_count": 26,
   "id": "2715b356-e80e-4ae7-9090-ade132f188f4",
   "metadata": {},
   "outputs": [],
   "source": [
    "data = Getch(''' SELECT user_id, exp_group\n",
    "                ,countIf(action, action='like') as likes\n",
    "                ,countIf(action, action='view') as views\n",
    "                ,countIf(action, action='like') / countIf(action, action='view') as ctr\n",
    "                FROM simulator_20230820.feed_actions\n",
    "                WHERE time >=  toUnixTimestamp('2023-07-30')\n",
    "                AND time <= toUnixTimestamp('2023-08-05')\n",
    "                AND (exp_group = 0 or exp_group = 1 or exp_group = 2 or exp_group = 3)\n",
    "                GROUP BY user_id, exp_group\n",
    "                Order by user_id''').df"
   ]
  },
  {
   "cell_type": "markdown",
   "id": "7e458149-f425-4057-acab-9a5e1154e83e",
   "metadata": {},
   "source": [
    "# СРАВНЕНИЕ ГРУПП 0 и 3"
   ]
  },
  {
   "cell_type": "code",
   "execution_count": 10,
   "id": "72862d11-a474-4b36-8ac5-974c5fa14b02",
   "metadata": {},
   "outputs": [],
   "source": [
    "# t-тест"
   ]
  },
  {
   "cell_type": "code",
   "execution_count": 27,
   "id": "21673c0b-5a9a-4611-937c-126b6311da03",
   "metadata": {},
   "outputs": [
    {
     "data": {
      "text/plain": [
       "Ttest_indResult(statistic=-15.37656513955401, pvalue=4.9886143333114755e-53)"
      ]
     },
     "execution_count": 27,
     "metadata": {},
     "output_type": "execute_result"
    }
   ],
   "source": [
    "stats.ttest_ind(data[data.exp_group == 0].ctr,\n",
    "                data[data.exp_group == 3].ctr,\n",
    "                equal_var=False)"
   ]
  },
  {
   "cell_type": "markdown",
   "id": "c6b85d0f-39bb-4385-ab33-9eaeebe24ee5",
   "metadata": {},
   "source": [
    "Метод линеаризованных лайков:"
   ]
  },
  {
   "cell_type": "code",
   "execution_count": 28,
   "id": "36efbe4a-cbdb-4dcd-a448-56c49dfc52f7",
   "metadata": {},
   "outputs": [
    {
     "data": {
      "text/plain": [
       "Ttest_indResult(statistic=-17.85270664229171, pvalue=1.0721168485295004e-70)"
      ]
     },
     "execution_count": 28,
     "metadata": {},
     "output_type": "execute_result"
    }
   ],
   "source": [
    "ctr_control_1 = data[data.exp_group == 0].likes.sum() / data[data.exp_group == 0].views.sum()\n",
    "data['linearized_likes_1'] = data.likes - ctr_control_1 * data.views\n",
    "stats.ttest_ind(data[data.exp_group == 0].linearized_likes_1,\n",
    "                data[data.exp_group == 3].linearized_likes_1,\n",
    "                equal_var=False)"
   ]
  },
  {
   "cell_type": "markdown",
   "id": "aba4af78-eb94-4e4b-8ad0-dc2217c10bf0",
   "metadata": {},
   "source": [
    "Снизили p-value, отличие большое, т.к. статистика -15.4 против статистики -17.9. Метод более чувствителен, чем простой т-тест"
   ]
  },
  {
   "cell_type": "markdown",
   "id": "4bf54ed2-f784-4bd3-a2b8-a192a2114d8b",
   "metadata": {},
   "source": [
    "# СРАВНЕНИЕ ГРУПП 1 и 2"
   ]
  },
  {
   "cell_type": "code",
   "execution_count": 29,
   "id": "c0a70af6-3c62-47aa-90f0-f49c846f90d6",
   "metadata": {},
   "outputs": [
    {
     "data": {
      "text/plain": [
       "Ttest_indResult(statistic=0.536209812127344, pvalue=0.5918218427419375)"
      ]
     },
     "execution_count": 29,
     "metadata": {},
     "output_type": "execute_result"
    }
   ],
   "source": [
    "stats.ttest_ind(data[data.exp_group == 1].ctr,\n",
    "                data[data.exp_group == 2].ctr,\n",
    "                equal_var=False)"
   ]
  },
  {
   "cell_type": "markdown",
   "id": "d9a458ab-d4c8-450a-aeb7-94975aac108a",
   "metadata": {},
   "source": [
    "Метод линеаризованных лайков:"
   ]
  },
  {
   "cell_type": "code",
   "execution_count": 30,
   "id": "d72f5f11-326b-4bc6-9ead-7b492490c498",
   "metadata": {},
   "outputs": [
    {
     "data": {
      "text/plain": [
       "Ttest_indResult(statistic=6.624873980874924, pvalue=3.6110764190414476e-11)"
      ]
     },
     "execution_count": 30,
     "metadata": {},
     "output_type": "execute_result"
    }
   ],
   "source": [
    "ctr_control_2 = data[data.exp_group == 1].likes.sum() / data[data.exp_group == 2].views.sum()\n",
    "data['linearized_likes_2'] = data.likes - ctr_control_2 * data.views\n",
    "stats.ttest_ind(data[data.exp_group == 1].linearized_likes_2,\n",
    "                data[data.exp_group == 2].linearized_likes_2,\n",
    "                equal_var=False)"
   ]
  },
  {
   "cell_type": "markdown",
   "id": "5d39cb50-db88-4d94-b976-f05bb104a7e9",
   "metadata": {},
   "source": [
    "При сравнении групп 1 и 2 видно, что метод линеаризованных  лайков показал себя лучше: там, где t-test различия не выявил, метод линеаризованных  лайков выявил различия на очень высоком уровне значимости. "
   ]
  },
  {
   "cell_type": "code",
   "execution_count": 31,
   "id": "b2645104-cf44-4b19-bc7b-a7d3734f11e5",
   "metadata": {},
   "outputs": [
    {
     "data": {
      "text/plain": [
       "<AxesSubplot:xlabel='linearized_likes_2', ylabel='Count'>"
      ]
     },
     "execution_count": 31,
     "metadata": {},
     "output_type": "execute_result"
    },
    {
     "data": {
      "image/png": "[encoded data removed]",
      "text/plain": [
       "<Figure size 432x288 with 1 Axes>"
      ]
     },
     "metadata": {
      "needs_background": "light"
     },
     "output_type": "display_data"
    }
   ],
   "source": [
    "sns.histplot(data = data.query('exp_group == 1 | exp_group == 2'), \n",
    "              x='linearized_likes_2', \n",
    "              hue='exp_group', \n",
    "              palette = ['r', 'b'],\n",
    "              alpha=0.5,\n",
    "              kde=False)"
   ]
  },
  {
   "cell_type": "markdown",
   "id": "755e47c1-f502-4995-a2d9-9c11226e5c03",
   "metadata": {},
   "source": [
    "Общий вывод: в данном конкретном примере метод линеаризованных лайков улучшил работу t-теста"
   ]
  }
 ],
 "metadata": {
  "kernelspec": {
   "display_name": "Python 3 (ipykernel)",
   "language": "python",
   "name": "python3"
  },
  "language_info": {
   "codemirror_mode": {
    "name": "ipython",
    "version": 3
   },
   "file_extension": ".py",
   "mimetype": "text/x-python",
   "name": "python",
   "nbconvert_exporter": "python",
   "pygments_lexer": "ipython3",
   "version": "3.8.10"
  }
 },
 "nbformat": 4,
 "nbformat_minor": 5
}
