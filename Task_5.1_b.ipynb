{
 "cells": [
  {
   "cell_type": "markdown",
   "id": "c67eeb34-ffaa-451c-bf0f-308e01388233",
   "metadata": {},
   "source": [
    "# Задание 5.1"
   ]
  },
  {
   "cell_type": "code",
   "execution_count": 10,
   "id": "b4ecea4c-f46b-40ad-9819-2a2e089b8496",
   "metadata": {},
   "outputs": [],
   "source": [
    "connection = {\n",
    "    'host': 'https://clickhouse.lab.karpov.courses',\n",
    "    'database': 'simulator_20230820',\n",
    "    'user': 'student',\n",
    "    'password': 'dpo_python_2020'   \n",
    "}"
   ]
  },
  {
   "cell_type": "code",
   "execution_count": 11,
   "id": "e719cb3a-fcc3-40f2-8cd7-576ec4a725dc",
   "metadata": {},
   "outputs": [],
   "source": [
    "import numpy as np\n",
    "import matplotlib.pyplot as plt\n",
    "import seaborn as sns\n",
    "import pandas as pd\n",
    "import pandahouse\n",
    "import hashlib\n",
    "# import swifter\n",
    "from scipy import stats\n",
    "%matplotlib inline"
   ]
  },
  {
   "cell_type": "code",
   "execution_count": 12,
   "id": "e1f2ef90-ed05-47aa-9338-3d74f7116006",
   "metadata": {},
   "outputs": [],
   "source": [
    "q = \"\"\"\n",
    "SELECT exp_group, \n",
    "    user_id,\n",
    "    sum(action = 'like') as likes,\n",
    "    sum(action = 'view') as views,\n",
    "    likes/views as ctr\n",
    "FROM {db}.feed_actions \n",
    "WHERE toDate(time) between '2023-07-23' and '2023-07-29'\n",
    "    and exp_group in (2,3)\n",
    "GROUP BY exp_group, user_id\n",
    "\"\"\"\n",
    "\n",
    "df = pandahouse.read_clickhouse(q, connection=connection)\n",
    "\n",
    "group_A=df[df.exp_group==2].copy()\n",
    "group_B=df[df.exp_group==3].copy()\n",
    "\n"
   ]
  },
  {
   "cell_type": "code",
   "execution_count": 13,
   "id": "48e46746-6a38-452c-9e69-d4ced71757f1",
   "metadata": {},
   "outputs": [
    {
     "data": {
      "text/plain": [
       "<seaborn.axisgrid.FacetGrid at 0x7eff4c5d27f0>"
      ]
     },
     "execution_count": 13,
     "metadata": {},
     "output_type": "execute_result"
    },
    {
     "data": {
      "image/png": "[encoded data removed]",
      "text/plain": [
       "<Figure size 360x360 with 1 Axes>"
      ]
     },
     "metadata": {
      "needs_background": "light"
     },
     "output_type": "display_data"
    }
   ],
   "source": [
    "ps = []\n",
    "for _ in range (10000):\n",
    "    _, p_value = stats.ttest_ind(group_A.ctr.sample(500, replace=False),\n",
    "                                 group_B.ctr.sample(500, replace=False),\n",
    "                                 equal_var = False)\n",
    "    ps.append(p_value)\n",
    "sns.displot(ps)\n",
    "\n"
   ]
  },
  {
   "cell_type": "code",
   "execution_count": 14,
   "id": "f4ff53fd-963b-4606-9c33-b7eb9a4772dc",
   "metadata": {},
   "outputs": [
    {
     "data": {
      "text/plain": [
       "0.0466"
      ]
     },
     "execution_count": 14,
     "metadata": {},
     "output_type": "execute_result"
    }
   ],
   "source": [
    "sum(np.array(ps)<0.05)/10000"
   ]
  },
  {
   "cell_type": "markdown",
   "id": "32332e94-45be-4b21-9456-1ee8056f0e77",
   "metadata": {},
   "source": [
    "Ответ: ~ 5 %. Это является приемлемым результатом, АА тест пройден."
   ]
  }
 ],
 "metadata": {
  "kernelspec": {
   "display_name": "Python 3 (ipykernel)",
   "language": "python",
   "name": "python3"
  },
  "language_info": {
   "codemirror_mode": {
    "name": "ipython",
    "version": 3
   },
   "file_extension": ".py",
   "mimetype": "text/x-python",
   "name": "python",
   "nbconvert_exporter": "python",
   "pygments_lexer": "ipython3",
   "version": "3.8.10"
  }
 },
 "nbformat": 4,
 "nbformat_minor": 5
}
